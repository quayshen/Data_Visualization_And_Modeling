{
 "cells": [
  {
   "cell_type": "markdown",
   "id": "03ba50ef-04a5-4edc-9ef8-747de437c608",
   "metadata": {},
   "source": [
    "# Lab Instructions\n",
    "\n",
    "Find a dataset that interests you. I'd recommend starting on [Kaggle](https://www.kaggle.com/). Read through all of the material about the dataset and download a .CSV file.\n",
    "\n",
    "1. Write a short summary of the data.  Where did it come from?  How was it collected?  What are the features in the data?  Why is this dataset interesting to you?  \n",
    "\n",
    "2. Identify 5 interesting questions about your data that you can answer using Pandas methods.  \n",
    "\n",
    "3. Answer those questions!  You may use any method you want (including LLMs) to help you write your code; however, you should use Pandas to find the answers.  LLMs will not always write code in this way without specific instruction.  \n",
    "\n",
    "4. Write the answer to your question in a text box underneath the code you used to calculate the answer.\n",
    "\n"
   ]
  },
  {
   "cell_type": "markdown",
   "id": "74da66be-dbfc-4140-93c4-b600e98f6df2",
   "metadata": {},
   "source": []
  },
  {
   "cell_type": "markdown",
   "id": "7dd4d07d-8063-46a2-89b9-c01b21eda40e",
   "metadata": {},
   "source": [
    "Summary of the Data:\n",
    "\n",
    "Source: Kaggle dataset compiled by Shivam Bansal.\n",
    "\n",
    "Collection Method: The data was scraped from Netflix’s official site and catalog APIs in 2021, then cleaned into CSV format.\n",
    "\n",
    "Features:\n",
    "\n",
    "show_id – Unique identifier for each show\n",
    "\n",
    "type – Movie or TV Show\n",
    "\n",
    "title – Title of the show\n",
    "\n",
    "director – Director(s)\n",
    "\n",
    "cast – Main cast members\n",
    "\n",
    "country – Country of origin\n",
    "\n",
    "date_added – When the show was added to Netflix\n",
    "\n",
    "release_year – Original release year\n",
    "\n",
    "rating – TV or movie content rating (e.g., PG, TV-MA)\n",
    "\n",
    "duration – Length in minutes or number of seasons\n",
    "\n",
    "listed_in – Genre categories\n",
    "\n",
    "description – Summary of the show\n",
    "\n",
    "Why It’s Interesting:\n",
    "\n",
    "Netflix has become a major global entertainment platform, and this dataset lets us explore trends in media production, genres, and content ratings over time.\n",
    "\n",
    "We can answer real-world business and cultural questions, like:\n",
    "\n",
    "What types of content dominate Netflix’s catalog?\n",
    "\n",
    "Which countries contribute the most content?\n",
    "\n",
    "What are the most popular genres?"
   ]
  },
  {
   "cell_type": "code",
   "execution_count": null,
   "id": "cfcc6287-bd64-4572-b87e-d81bbb14e6de",
   "metadata": {},
   "outputs": [],
   "source": []
  },
  {
   "cell_type": "markdown",
   "id": "cbc5c6ec-0f13-4a55-904a-15099660d9fb",
   "metadata": {},
   "source": [
    "Which country has produced the most Netflix content?\n",
    "\n",
    "What are the top 5 most common genres on Netflix?\n",
    "\n",
    "How has the number of releases changed over time?\n",
    "\n",
    "Which directors have the most titles on Netflix?\n",
    "\n",
    "What’s the average duration of movies on Netflix?"
   ]
  },
  {
   "cell_type": "code",
   "execution_count": null,
   "id": "37e49758-9372-4741-a899-694f4b6c0c4f",
   "metadata": {},
   "outputs": [],
   "source": []
  },
  {
   "cell_type": "code",
   "execution_count": 1,
   "id": "1d267bf2-4891-4cfe-b99e-318225ddb244",
   "metadata": {},
   "outputs": [
    {
     "name": "stdout",
     "output_type": "stream",
     "text": [
      "  show_id     type                  title         director  \\\n",
      "0      s1    Movie   Dick Johnson Is Dead  Kirsten Johnson   \n",
      "1      s2  TV Show          Blood & Water              NaN   \n",
      "2      s3  TV Show              Ganglands  Julien Leclercq   \n",
      "3      s4  TV Show  Jailbirds New Orleans              NaN   \n",
      "4      s5  TV Show           Kota Factory              NaN   \n",
      "\n",
      "                                                cast        country  \\\n",
      "0                                                NaN  United States   \n",
      "1  Ama Qamata, Khosi Ngema, Gail Mabalane, Thaban...   South Africa   \n",
      "2  Sami Bouajila, Tracy Gotoas, Samuel Jouy, Nabi...            NaN   \n",
      "3                                                NaN            NaN   \n",
      "4  Mayur More, Jitendra Kumar, Ranjan Raj, Alam K...          India   \n",
      "\n",
      "           date_added  release_year rating   duration  \\\n",
      "0  September 25, 2021          2020  PG-13     90 min   \n",
      "1  September 24, 2021          2021  TV-MA  2 Seasons   \n",
      "2  September 24, 2021          2021  TV-MA   1 Season   \n",
      "3  September 24, 2021          2021  TV-MA   1 Season   \n",
      "4  September 24, 2021          2021  TV-MA  2 Seasons   \n",
      "\n",
      "                                           listed_in  \\\n",
      "0                                      Documentaries   \n",
      "1    International TV Shows, TV Dramas, TV Mysteries   \n",
      "2  Crime TV Shows, International TV Shows, TV Act...   \n",
      "3                             Docuseries, Reality TV   \n",
      "4  International TV Shows, Romantic TV Shows, TV ...   \n",
      "\n",
      "                                         description  \n",
      "0  As her father nears the end of his life, filmm...  \n",
      "1  After crossing paths at a party, a Cape Town t...  \n",
      "2  To protect his family from a powerful drug lor...  \n",
      "3  Feuds, flirtations and toilet talk go down amo...  \n",
      "4  In a city of coaching centers known to train I...  \n",
      "\n",
      "Dataset Info:\n",
      "<class 'pandas.core.frame.DataFrame'>\n",
      "RangeIndex: 8807 entries, 0 to 8806\n",
      "Data columns (total 12 columns):\n",
      " #   Column        Non-Null Count  Dtype \n",
      "---  ------        --------------  ----- \n",
      " 0   show_id       8807 non-null   object\n",
      " 1   type          8807 non-null   object\n",
      " 2   title         8807 non-null   object\n",
      " 3   director      6173 non-null   object\n",
      " 4   cast          7982 non-null   object\n",
      " 5   country       7976 non-null   object\n",
      " 6   date_added    8797 non-null   object\n",
      " 7   release_year  8807 non-null   int64 \n",
      " 8   rating        8803 non-null   object\n",
      " 9   duration      8804 non-null   object\n",
      " 10  listed_in     8807 non-null   object\n",
      " 11  description   8807 non-null   object\n",
      "dtypes: int64(1), object(11)\n",
      "memory usage: 825.8+ KB\n",
      "None\n"
     ]
    }
   ],
   "source": [
    "import pandas as pd\n",
    "\n",
    "# Load Netflix dataset\n",
    "df = pd.read_csv('netflix_titles.csv')\n",
    "\n",
    "# Preview\n",
    "print(df.head())\n",
    "print(\"\\nDataset Info:\")\n",
    "print(df.info())\n"
   ]
  },
  {
   "cell_type": "code",
   "execution_count": null,
   "id": "bb7ef158-1c32-4d6b-bcbe-3c46dae3d1e2",
   "metadata": {},
   "outputs": [],
   "source": []
  },
  {
   "cell_type": "code",
   "execution_count": 2,
   "id": "51d690f0-8ab1-4830-9860-1be7b12fa901",
   "metadata": {},
   "outputs": [
    {
     "name": "stdout",
     "output_type": "stream",
     "text": [
      "country\n",
      "United States     2818\n",
      "India              972\n",
      "United Kingdom     419\n",
      "Japan              245\n",
      "South Korea        199\n",
      "Canada             181\n",
      "Spain              145\n",
      "France             124\n",
      "Mexico             110\n",
      "Egypt              106\n",
      "Name: count, dtype: int64\n"
     ]
    }
   ],
   "source": [
    "country_counts = df['country'].value_counts().head(10)\n",
    "print(country_counts)\n"
   ]
  },
  {
   "cell_type": "code",
   "execution_count": null,
   "id": "5ba348ee-6bc0-4c43-b854-7e00b2a2f97a",
   "metadata": {},
   "outputs": [],
   "source": []
  },
  {
   "cell_type": "code",
   "execution_count": 3,
   "id": "6ead70c3-a160-488d-b985-c1ad13b9d89d",
   "metadata": {},
   "outputs": [
    {
     "name": "stdout",
     "output_type": "stream",
     "text": [
      "listed_in\n",
      "International Movies      2752\n",
      "Dramas                    2427\n",
      "Comedies                  1674\n",
      "International TV Shows    1351\n",
      "Documentaries              869\n",
      "Name: count, dtype: int64\n"
     ]
    }
   ],
   "source": [
    "# Split the genre strings and count them individually\n",
    "genres = df['listed_in'].dropna().str.split(', ')\n",
    "genre_counts = genres.explode().value_counts().head(5)\n",
    "print(genre_counts)\n"
   ]
  },
  {
   "cell_type": "code",
   "execution_count": null,
   "id": "d7997336-b4eb-465a-89f3-d00063f41b45",
   "metadata": {},
   "outputs": [],
   "source": []
  },
  {
   "cell_type": "code",
   "execution_count": 4,
   "id": "57a0b663-0292-4cbc-b944-487808d9766d",
   "metadata": {},
   "outputs": [
    {
     "name": "stdout",
     "output_type": "stream",
     "text": [
      "release_year\n",
      "2012     237\n",
      "2013     288\n",
      "2014     352\n",
      "2015     560\n",
      "2016     902\n",
      "2017    1032\n",
      "2018    1147\n",
      "2019    1030\n",
      "2020     953\n",
      "2021     592\n",
      "Name: count, dtype: int64\n"
     ]
    }
   ],
   "source": [
    "release_trend = df['release_year'].value_counts().sort_index()\n",
    "print(release_trend.tail(10))  # Show recent years\n"
   ]
  },
  {
   "cell_type": "code",
   "execution_count": null,
   "id": "706f2bcb-90bf-4031-9fcd-2a38088684fa",
   "metadata": {},
   "outputs": [],
   "source": []
  },
  {
   "cell_type": "code",
   "execution_count": 5,
   "id": "dce0c80e-6b17-4c5b-8349-25789971f126",
   "metadata": {},
   "outputs": [
    {
     "name": "stdout",
     "output_type": "stream",
     "text": [
      "director\n",
      "Rajiv Chilaka             19\n",
      "Raúl Campos, Jan Suter    18\n",
      "Suhas Kadav               16\n",
      "Marcus Raboy              16\n",
      "Jay Karas                 14\n",
      "Name: count, dtype: int64\n"
     ]
    }
   ],
   "source": [
    "top_directors = df['director'].value_counts().head(5)\n",
    "print(top_directors)\n"
   ]
  },
  {
   "cell_type": "code",
   "execution_count": null,
   "id": "9fe79c64-4827-4d20-8e37-7ff92f5cfc93",
   "metadata": {},
   "outputs": [],
   "source": []
  },
  {
   "cell_type": "code",
   "execution_count": 6,
   "id": "3a16cd3f-6792-4571-a914-9fcc42da57d5",
   "metadata": {},
   "outputs": [
    {
     "name": "stdout",
     "output_type": "stream",
     "text": [
      "99.57718668407311\n"
     ]
    },
    {
     "name": "stderr",
     "output_type": "stream",
     "text": [
      "C:\\Users\\quays\\AppData\\Local\\Temp\\ipykernel_76160\\458709531.py:5: SettingWithCopyWarning: \n",
      "A value is trying to be set on a copy of a slice from a DataFrame.\n",
      "Try using .loc[row_indexer,col_indexer] = value instead\n",
      "\n",
      "See the caveats in the documentation: https://pandas.pydata.org/pandas-docs/stable/user_guide/indexing.html#returning-a-view-versus-a-copy\n",
      "  movies['duration_mins'] = movies['duration'].str.replace(' min', '').astype(float)\n"
     ]
    }
   ],
   "source": [
    "# Filter to only movies\n",
    "movies = df[df['type'] == 'Movie']\n",
    "\n",
    "# Extract the numeric minutes from duration string\n",
    "movies['duration_mins'] = movies['duration'].str.replace(' min', '').astype(float)\n",
    "\n",
    "average_duration = movies['duration_mins'].mean()\n",
    "print(average_duration)\n"
   ]
  },
  {
   "cell_type": "code",
   "execution_count": null,
   "id": "9adcdd38-a7b0-41d6-b307-aa21fec2946a",
   "metadata": {},
   "outputs": [],
   "source": []
  }
 ],
 "metadata": {
  "kernelspec": {
   "display_name": "Python [conda env:base] *",
   "language": "python",
   "name": "conda-base-py"
  },
  "language_info": {
   "codemirror_mode": {
    "name": "ipython",
    "version": 3
   },
   "file_extension": ".py",
   "mimetype": "text/x-python",
   "name": "python",
   "nbconvert_exporter": "python",
   "pygments_lexer": "ipython3",
   "version": "3.13.5"
  }
 },
 "nbformat": 4,
 "nbformat_minor": 5
}
